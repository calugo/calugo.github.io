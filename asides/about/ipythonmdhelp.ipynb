{
 "metadata": {
  "name": "",
  "signature": "sha256:ab5ce836e85ebcabf10e9a7a906423735fa626087d2949d748671c914b70e865"
 },
 "nbformat": 3,
 "nbformat_minor": 0,
 "worksheets": [
  {
   "cells": [
    {
     "cell_type": "markdown",
     "metadata": {},
     "source": [
      "I'm a theoretical physicist working on mathematical and computational models of evolution.\n",
      " \n",
      "I got my undergraduate degree in M\u00e9xico at [U.N.A.M.](http://www.unam.mx/) and my PhD in from the [University of Manchester](http://www.manchester.ac.uk/) under the supervision of  prof. [Alan J. McKane.](http://theory.physics.manchester.ac.uk/~cssp/)\n",
      "\n",
      "Since then, I have held research posts at:\n",
      "\n",
      "* [Universitat Polit\u00e8cnica de Catalunya](http://www.upc.edu/) (Barcelona, Spain), studying Calcium cycling's role in cardiac dynamics within the group of [Prof. Blas Echeberria](http://www-fa.upc.es/websfa/eupb/NOLIN/CARDIAC/Welcome.html)\n",
      " \n",
      "* [Centro de Astrobiolog\u00eda, CSIC-INTA](http://www.cab.inta.es/es/inicio) (Madrid, Spain), studying properties of genotype-phenotype mappinngs and neutral evolution for the case of RNA, as part of the group of [Prof. Susanna Manrubia](http://auditore.cab.inta-csic.es/manrubia/)\n",
      "\n",
      "Currently I am based at The Sainsbury Laboratory, studying evolution and co-evoultion of host-pathogen systems in plants, within the Bioinformatics team with [Dr. Dan Maclean](http://www.danmaclean.info/index.php).\n",
      "\n",
      "Contact Details:\n",
      "\n",
      "Dr. Carlos A. Lugo V\u00e9lez\n",
      "\n",
      "The Sainsbury Laboratory\n",
      "Norwich\n",
      "Norwich Research Park\n",
      "UK\n",
      "NR4 7UH\n",
      "Phone\n",
      "+44 (0) 1603 450 166\n",
      "\n",
      "Email:\n",
      "\n",
      "Carlos.Lugo@tsl.ac.uk\n",
      "\n",
      "Twitter\n",
      "@kupkasmale\n"
     ]
    },
    {
     "cell_type": "code",
     "collapsed": false,
     "input": [],
     "language": "python",
     "metadata": {},
     "outputs": []
    }
   ],
   "metadata": {}
  }
 ]
}